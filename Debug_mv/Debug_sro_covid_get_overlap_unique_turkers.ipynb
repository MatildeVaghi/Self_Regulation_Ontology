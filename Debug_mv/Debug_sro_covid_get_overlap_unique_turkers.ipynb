{
 "cells": [
  {
   "cell_type": "markdown",
   "metadata": {},
   "source": [
    "## This notebook identifies the subjects who were tested twice and the subjects tested only once \n",
    "\n",
    "**The subjects tested only once will be the training data set for data cleaning and EFA**"
   ]
  },
  {
   "cell_type": "code",
   "execution_count": 1,
   "metadata": {},
   "outputs": [],
   "source": [
    "from selfregulation.utils.utils import get_info, get_admin_data,  get_behav_data, get_behav_data_master, get_overlap_mturk_id, get_turkers_finishing_battery\n",
    "import json\n",
    "from os import path"
   ]
  },
  {
   "cell_type": "code",
   "execution_count": 2,
   "metadata": {},
   "outputs": [],
   "source": [
    "data_dir    = get_info('data_directory')"
   ]
  },
  {
   "cell_type": "code",
   "execution_count": 3,
   "metadata": {},
   "outputs": [
    {
     "name": "stdout",
     "output_type": "stream",
     "text": [
      "Total number of subjects tested by Ian: 662\n",
      "Total number of subjects tested during Covid: 145\n"
     ]
    }
   ],
   "source": [
    "lookup_master   = get_admin_data(data_dir, 'worker_lookup_zeynep.json')\n",
    "lookup_covid    = get_admin_data(data_dir, 'worker_lookup.json')\n",
    "\n",
    "print('Total number of subjects tested by Ian:', len(lookup_master))\n",
    "print('Total number of subjects tested during Covid:', len(lookup_covid))"
   ]
  },
  {
   "cell_type": "code",
   "execution_count": 4,
   "metadata": {},
   "outputs": [
    {
     "name": "stdout",
     "output_type": "stream",
     "text": [
      "Total number of subjects finishing battery by Ian: 560\n",
      "Total number of subjects finishing during Covid: 136\n"
     ]
    }
   ],
   "source": [
    "lookup_master_complete = get_turkers_finishing_battery(lookup_master, 's')\n",
    "lookup_covid_complete  = get_turkers_finishing_battery(lookup_covid,'s')\n",
    "print('Total number of subjects finishing battery by Ian:', len(lookup_master_complete))\n",
    "print('Total number of subjects finishing during Covid:', len(lookup_covid_complete ))"
   ]
  },
  {
   "cell_type": "code",
   "execution_count": 5,
   "metadata": {},
   "outputs": [
    {
     "name": "stdout",
     "output_type": "stream",
     "text": [
      "Total number of subjects included in the analysis by Ian: 522\n"
     ]
    }
   ],
   "source": [
    "master_data = get_behav_data_master(dataset = 'Complete_02-16-2019', file = 'meaningful_variables_clean.csv')\n",
    "subjects_master_clean = list(master_data.index)\n",
    "print('Total number of subjects included in the analysis by Ian:', len(subjects_master_clean))"
   ]
  },
  {
   "cell_type": "code",
   "execution_count": 6,
   "metadata": {},
   "outputs": [
    {
     "name": "stdout",
     "output_type": "stream",
     "text": [
      "Total number of subjects included in the analysis by covid: 107\n"
     ]
    }
   ],
   "source": [
    "covid_data = get_behav_data()\n",
    "subjects_covid_clean = list(covid_data.index)\n",
    "print('Total number of subjects included in the analysis by covid:', len(subjects_covid_clean))"
   ]
  },
  {
   "cell_type": "code",
   "execution_count": 7,
   "metadata": {},
   "outputs": [
    {
     "name": "stdout",
     "output_type": "stream",
     "text": [
      "Dictionary with complete and clean turker id, IAN : 522\n",
      "Dictionary with complete and clean turker id, COVID : 107\n"
     ]
    }
   ],
   "source": [
    "lookup_master_complete_clean= {key:val for key, val in lookup_master_complete.items() if key in subjects_master_clean }\n",
    "lookup_covid_complete_clean = {key:val for key, val in lookup_covid_complete.items() if key in subjects_covid_clean }\n",
    "print('Dictionary with complete and clean turker id, IAN :', len(lookup_master_complete_clean))\n",
    "print('Dictionary with complete and clean turker id, COVID :', len(lookup_covid_complete_clean))\n",
    "\n",
    "\n",
    "\n"
   ]
  },
  {
   "cell_type": "code",
   "execution_count": 8,
   "metadata": {},
   "outputs": [],
   "source": [
    "list_common_turkers= get_overlap_mturk_id(lookup_master_complete_clean,lookup_covid_complete)"
   ]
  },
  {
   "cell_type": "code",
   "execution_count": 9,
   "metadata": {},
   "outputs": [
    {
     "name": "stdout",
     "output_type": "stream",
     "text": [
      "Total number of subjects tested and analyzed only by Ian: 386\n"
     ]
    }
   ],
   "source": [
    "unique_turkers_master = { key:val for key, val in lookup_master_complete_clean.items() if val not in list_common_turkers}\n",
    "print ('Total number of subjects tested and analyzed only by Ian:',len(unique_turkers_master))"
   ]
  },
  {
   "cell_type": "code",
   "execution_count": 10,
   "metadata": {},
   "outputs": [
    {
     "name": "stdout",
     "output_type": "stream",
     "text": [
      "Total number of subjects tested on both times: 136\n"
     ]
    }
   ],
   "source": [
    "overlap_turkers_master={ key:val for key, val in lookup_master_complete_clean.items() if val  in list_common_turkers}\n",
    "print ('Total number of subjects tested on both times:',len(overlap_turkers_master))"
   ]
  },
  {
   "cell_type": "code",
   "execution_count": 11,
   "metadata": {},
   "outputs": [],
   "source": [
    "overlap_turkers_master ={ key:val for key, val in overlap_turkers_master.items() if val  in list_common_turkers}"
   ]
  },
  {
   "cell_type": "code",
   "execution_count": 12,
   "metadata": {},
   "outputs": [
    {
     "name": "stdout",
     "output_type": "stream",
     "text": [
      "107\n",
      "Total number of subjects tested on both times and passing QC: 107\n"
     ]
    }
   ],
   "source": [
    "#However only some of the overlapping turkers passed qc in covid, keep only the one passing covid QC \n",
    "list_common_turkers_QC= get_overlap_mturk_id(lookup_master_complete_clean,lookup_covid_complete_clean)\n",
    "print(len(list_common_turkers_QC))\n",
    "\n",
    "overlap_turkers={ key:val for key, val in overlap_turkers_master.items() if val  in list_common_turkers_QC}\n",
    "print ('Total number of subjects tested on both times and passing QC:',len(overlap_turkers))"
   ]
  },
  {
   "cell_type": "code",
   "execution_count": 13,
   "metadata": {},
   "outputs": [
    {
     "name": "stdout",
     "output_type": "stream",
     "text": [
      "Saving json dictionary in admin\n"
     ]
    }
   ],
   "source": [
    "print('Saving json dictionary in admin')"
   ]
  },
  {
   "cell_type": "code",
   "execution_count": 14,
   "metadata": {},
   "outputs": [],
   "source": [
    "json.dump(unique_turkers_master, open(path.join(data_dir, 'admin' , 'unique_turkers_master.json'),'w'))"
   ]
  },
  {
   "cell_type": "code",
   "execution_count": 15,
   "metadata": {},
   "outputs": [],
   "source": [
    "json.dump(overlap_turkers_master, open(path.join(data_dir, 'admin' , 'overlap_turkers_master.json'),'w'))"
   ]
  },
  {
   "cell_type": "code",
   "execution_count": 16,
   "metadata": {},
   "outputs": [],
   "source": [
    "json.dump(overlap_turkers, open(path.join(data_dir, 'admin' , 'overlap_turkers.json'),'w'))"
   ]
  },
  {
   "cell_type": "code",
   "execution_count": null,
   "metadata": {},
   "outputs": [],
   "source": []
  }
 ],
 "metadata": {
  "kernelspec": {
   "display_name": "Python 3",
   "language": "python",
   "name": "python3"
  },
  "language_info": {
   "codemirror_mode": {
    "name": "ipython",
    "version": 3
   },
   "file_extension": ".py",
   "mimetype": "text/x-python",
   "name": "python",
   "nbconvert_exporter": "python",
   "pygments_lexer": "ipython3",
   "version": "3.5.3"
  }
 },
 "nbformat": 4,
 "nbformat_minor": 4
}
