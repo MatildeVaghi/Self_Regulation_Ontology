{
 "cells": [
  {
   "cell_type": "code",
   "execution_count": 1,
   "metadata": {},
   "outputs": [
    {
     "name": "stderr",
     "output_type": "stream",
     "text": [
      "/usr/local/lib/python3.5/site-packages/IPython/parallel.py:13: ShimWarning: The `IPython.parallel` package has been deprecated since IPython 4.0. You should import from ipyparallel instead.\n",
      "  \"You should import from ipyparallel instead.\", ShimWarning)\n",
      "/usr/local/lib/python3.5/site-packages/statsmodels/compat/pandas.py:56: FutureWarning: The pandas.core.datetools module is deprecated and will be removed in a future version. Please use the pandas.tseries module instead.\n",
      "  from pandas.core import datetools\n"
     ]
    }
   ],
   "source": [
    "from selfregulation.utils.utils import get_info,  get_behav_data_master, get_admin_data, get_behav_data\n",
    "from selfregulation.utils.data_preparation_utils import remove_correlated_task_variables, remove_outliers\n",
    "from selfregulation.utils.r_to_py_utils import missForest\n",
    "\n",
    "import numpy as np\n",
    "import pandas as pd\n",
    "import matplotlib.pyplot as plt\n",
    "\n",
    "from sklearn.preprocessing import QuantileTransformer\n",
    "from sklearn.preprocessing import PowerTransformer\n",
    "\n",
    "from sklearn.model_selection import train_test_split\n"
   ]
  },
  {
   "cell_type": "code",
   "execution_count": 2,
   "metadata": {},
   "outputs": [],
   "source": [
    "def plot_skewness(data_train, data_test_master, data_test_covid, title): \n",
    "    # Evaluating skew, plotting skewness for the variables included in the analysis\n",
    "    fig, ax = plt.subplots(1, 3)\n",
    "    fig.tight_layout() \n",
    "    fig.suptitle(title, fontsize=16)\n",
    "    fig.subplots_adjust(top=0.80)\n",
    "\n",
    "    ax[0].hist(data_train.skew(), bins=20, alpha=1, facecolor='green')\n",
    "    ax[0].title.set_text('Training dataset')\n",
    "    ax[0].set_xlabel(\"Skewness of variables\")\n",
    "    ax[0].set_ylabel(\"# Variables\")\n",
    "\n",
    "    ax[1].hist(data_test_master.skew(), bins=20, alpha=1, facecolor='gold')\n",
    "    ax[1].title.set_text('Master dataset')\n",
    "    ax[1].set_xlabel(\"Skewness of variables\")\n",
    "    ax[1].set_ylabel(\"# Variables\")\n",
    "\n",
    "    ax[2].hist(data_test_covid.skew(), bins=20, alpha=1, facecolor='darkblue')\n",
    "    ax[2].title.set_text('Covid dataset')\n",
    "    ax[2].set_xlabel(\"Skewness of variables\")\n",
    "    ax[2].set_ylabel(\"# Variables\")\n",
    "    \n",
    "    plt.show"
   ]
  },
  {
   "cell_type": "code",
   "execution_count": 3,
   "metadata": {},
   "outputs": [],
   "source": [
    "def transform_qt(data_train,\n",
    "                 data_test = None,\n",
    "                 threshold =1,\n",
    "                 drop_failed = True,\n",
    "                 verbose = True,\n",
    "                 quantile = 100 ,\n",
    "                 distribution = 'normal',\n",
    "                 output_train= True):\n",
    "    data = data_train.copy()\n",
    "    #transformer\n",
    "    qt = QuantileTransformer(n_quantiles=quantile, random_state=0, output_distribution = distribution)\n",
    "    data_qt = pd.DataFrame(qt.fit_transform(data), columns = data.columns, index= data.index)\n",
    "    \n",
    "    # temporary removal of outliers remove outliers\n",
    "    tmp = remove_outliers(data_qt)\n",
    "    \n",
    "    successful_transforms= data_qt.loc[:,abs(tmp.skew())<threshold]\n",
    "    if verbose:\n",
    "        print('* Training dataset')\n",
    "        print('** Successfully transformed %s variables' % len(successful_transforms.columns))\n",
    "    dropped_vars = set(data_qt)-set(successful_transforms)\n",
    "    if verbose:\n",
    "        print('** %s variables could not be transformed successfully' % len(dropped_vars))\n",
    "    if drop_failed:\n",
    "        data_qt.drop(dropped_vars, axis=1, inplace = True)\n",
    "        if verbose:\n",
    "            print('Dropping %s skewed data that could not be transformed successfully:' % len(dropped_vars))\n",
    "            print('\\n'.join(dropped_vars))\n",
    "            print('*' * 70)\n",
    "    data_qt.columns = [i + '.qt' for i in data_qt]\n",
    "    if data_test is not None:\n",
    "       #transform datatrain using the calculation from the training dataset\n",
    "        data_tst = data_test.copy()\n",
    "        data_tst_qt = pd.DataFrame(qt.transform(data_tst), columns = data_tst.columns, index= data_tst.index)\n",
    "        \n",
    "        # remove outliers\n",
    "        tmp_tst = remove_outliers(data_tst_qt)\n",
    "        \n",
    "        successful_transforms_tst= data_tst_qt.loc[:,abs(tmp_tst.skew())<threshold]\n",
    "        if verbose:\n",
    "            print('* Testing dataset')\n",
    "            print('** Successfully transformed %s variables' % len(successful_transforms_tst.columns))\n",
    "        dropped_vars_tst = set(data_tst_qt)-set(successful_transforms_tst)\n",
    "        if verbose:\n",
    "            print('** %s variables could not be transformed successfully' % len(dropped_vars_tst))\n",
    "        if drop_failed:\n",
    "            data_tst_qt.drop(dropped_vars_tst, axis=1, inplace = True)\n",
    "            if verbose:\n",
    "                print('Dropping %s skewed data that could not be transformed successfully:' % len(dropped_vars_tst))\n",
    "                print('\\n'.join(dropped_vars_tst))\n",
    "                print('*'*70)\n",
    "        data_tst_qt.columns = [i + '.qt' for i in data_tst_qt]\n",
    "        if output_train == True:\n",
    "            return data_qt.sort_index(axis = 1), data_tst_qt.sort_index(axis = 1)\n",
    "        else:\n",
    "            return data_tst_qt.sort_index(axis = 1)\n",
    "    else:\n",
    "        return data_qt.sort_index(axis = 1)"
   ]
  },
  {
   "cell_type": "code",
   "execution_count": 4,
   "metadata": {},
   "outputs": [],
   "source": [
    "def transform_pt(data_train,\n",
    "                 data_test = None,\n",
    "                 threshold =1,\n",
    "                 drop_failed = True,\n",
    "                 verbose = True,\n",
    "                 output_train= True):\n",
    "    data = data_train.copy()\n",
    "    #transformer\n",
    "    pt = PowerTransformer(method='yeo-johnson', standardize=True)\n",
    "    data_pt = pd.DataFrame(pt.fit_transform(data), columns = data.columns, index= data.index)\n",
    "    \n",
    "    # temporary removal of outliers remove outliers\n",
    "    tmp = remove_outliers(data_pt)\n",
    "    \n",
    "    successful_transforms= data_pt.loc[:,abs(tmp.skew())<threshold]\n",
    "    if verbose:\n",
    "        print('* Training dataset')\n",
    "        print('** Successfully transformed %s variables' % len(successful_transforms.columns))\n",
    "    dropped_vars = set(data_pt)-set(successful_transforms)\n",
    "    if verbose:\n",
    "        print('** %s variables could not be transformed successfully' % len(dropped_vars))\n",
    "    if drop_failed:\n",
    "        data_pt.drop(dropped_vars, axis=1, inplace = True)\n",
    "        if verbose:\n",
    "            print('Dropping %s skewed data that could not be transformed successfully:' % len(dropped_vars))\n",
    "            print('\\n'.join(dropped_vars))\n",
    "            print('*' * 70)\n",
    "    data_pt.columns = [i + '.pt' for i in data_pt]\n",
    "    if data_test is not None:\n",
    "       #transform datatrain using the calculation from the training dataset\n",
    "        data_tst = data_test.copy()\n",
    "        data_tst_pt = pd.DataFrame(pt.transform(data_tst), columns = data_tst.columns, index= data_tst.index)\n",
    "        \n",
    "        # remove outliers\n",
    "        tmp_tst = remove_outliers(data_tst_pt)\n",
    "        \n",
    "        successful_transforms_tst= data_tst_pt.loc[:,abs(tmp_tst.skew())<threshold]\n",
    "        if verbose:\n",
    "            print('* Testing dataset')\n",
    "            print('** Successfully transformed %s variables' % len(successful_transforms_tst.columns))\n",
    "        dropped_vars_tst = set(data_tst_pt)-set(successful_transforms_tst)\n",
    "        if verbose:\n",
    "            print('** %s variables could not be transformed successfully' % len(dropped_vars_tst))\n",
    "        if drop_failed:\n",
    "            data_tst_pt.drop(dropped_vars_tst, axis=1, inplace = True)\n",
    "            if verbose:\n",
    "                print('Dropping %s skewed data that could not be transformed successfully:' % len(dropped_vars_tst))\n",
    "                print('\\n'.join(dropped_vars_tst))\n",
    "                print('*'*70)\n",
    "        data_tst_pt.columns = [i + '.pt' for i in data_tst_pt]\n",
    "        if output_train == True:\n",
    "            return data_pt.sort_index(axis = 1), data_tst_pt.sort_index(axis = 1)\n",
    "        else:\n",
    "            return data_tst_pt.sort_index(axis = 1)\n",
    "    else:\n",
    "        return data_pt.sort_index(axis = 1)"
   ]
  },
  {
   "cell_type": "code",
   "execution_count": 5,
   "metadata": {},
   "outputs": [],
   "source": [
    "def select_data(orig_data_set_training, orig_data_set_testing): \n",
    "    X =  pd.concat([orig_data_set_training, orig_data_set_testing])\n",
    "    y  = [0] * len(orig_data_set_training) + [1] * len(orig_data_set_testing)\n",
    "    return(X, y)"
   ]
  },
  {
   "cell_type": "code",
   "execution_count": 6,
   "metadata": {},
   "outputs": [],
   "source": [
    "def transform_qt_train_test_split(X, y): \n",
    "    X_train, X_test, y_train, y_test = train_test_split(X, y, random_state=0)\n",
    "    quantile_transformer = QuantileTransformer(random_state=0)\n",
    "    X_train_trans = pd.DataFrame(quantile_transformer.fit_transform(X_train), columns = X_train.columns, index= X_train.index)\n",
    "    X_test_trans = pd.DataFrame(quantile_transformer.fit_transform(X_test), columns = X_test.columns, index= X_test.index)\n",
    "    \n",
    "    return X_train, X_test, X_train_trans, X_test_trans"
   ]
  },
  {
   "cell_type": "code",
   "execution_count": 7,
   "metadata": {},
   "outputs": [],
   "source": [
    "def plot_skeweness_2(X_train_trans, X_test_trans, title, color = 'color'): \n",
    "    # Evaluating skew, plotting skewness for the variables included in the analysis\n",
    "    fig, ax = plt.subplots(1, 2)\n",
    "    fig.tight_layout() \n",
    "    fig.suptitle(title, fontsize=16)\n",
    "    fig.subplots_adjust(top=0.80)\n",
    "\n",
    "    ax[0].hist(X_train_trans.skew(), bins=20, alpha=1, facecolor='green')\n",
    "    ax[0].title.set_text('Training dataset')\n",
    "    ax[0].set_xlabel(\"Skewness of variables\")\n",
    "    ax[0].set_ylabel(\"# Variables\")\n",
    "\n",
    "    ax[1].hist(X_test_trans.skew(), bins=20, alpha=1, facecolor= color)\n",
    "    ax[1].title.set_text('Testing dataset')\n",
    "    ax[1].set_xlabel(\"Skewness of variables\")\n",
    "    ax[1].set_ylabel(\"# Variables\")\n",
    "\n",
    "    plt.show"
   ]
  },
  {
   "cell_type": "code",
   "execution_count": 8,
   "metadata": {},
   "outputs": [],
   "source": [
    "def return_original_datasets_trans(X_train_trans, X_test_trans): \n",
    "    all_data = pd.concat([X_train_trans, X_test_trans ])\n",
    "    orig_train_trans  = all_data[all_data.index.str.contains('train')]\n",
    "    orig_test_trans  = all_data[all_data.index.str.contains('test')]\n",
    "    return orig_train_trans, orig_test_trans"
   ]
  },
  {
   "cell_type": "code",
   "execution_count": null,
   "metadata": {},
   "outputs": [],
   "source": []
  },
  {
   "cell_type": "code",
   "execution_count": null,
   "metadata": {},
   "outputs": [],
   "source": []
  },
  {
   "cell_type": "code",
   "execution_count": null,
   "metadata": {},
   "outputs": [],
   "source": []
  },
  {
   "cell_type": "code",
   "execution_count": null,
   "metadata": {},
   "outputs": [],
   "source": []
  },
  {
   "cell_type": "code",
   "execution_count": null,
   "metadata": {},
   "outputs": [],
   "source": []
  },
  {
   "cell_type": "markdown",
   "metadata": {},
   "source": [
    "## Get full dataset of selected variables and split into training and test dataset"
   ]
  },
  {
   "cell_type": "code",
   "execution_count": 9,
   "metadata": {},
   "outputs": [
    {
     "name": "stdout",
     "output_type": "stream",
     "text": [
      "Getting dataset: /SRO/Data/Complete_Covid_11-12-2020...:\n",
      "file: meaningful_variables.csv \n",
      " \n",
      "Getting dataset: /SRO/Data_master/Complete_02-16-2019...:\n",
      "file: meaningful_variables.csv \n",
      " \n"
     ]
    }
   ],
   "source": [
    "data_dir    = get_info('data_directory')\n",
    "selected_var_covid  = get_behav_data(verbose=True)\n",
    "selected_var_master = get_behav_data_master(dataset = 'Complete_02-16-2019', file = 'meaningful_variables.csv', verbose=True)"
   ]
  },
  {
   "cell_type": "code",
   "execution_count": 10,
   "metadata": {},
   "outputs": [],
   "source": [
    "#Some variables from Ian have different names, as different layout of survey was used, rename\n",
    "#1.holt_laury_survey                             holt_laury_survey_correctlayout\n",
    "#2.selection_optimization_compensation_survey    selection_optimization_compensation_survey_correctlayout\n",
    "#3.sensation_seeking_survey                      sensation_seeking_survey_correctlayout\n",
    "selected_var_master.columns = [i.replace('holt_laury_survey', 'holt_laury_survey_correctlayout') for i in selected_var_master]\n",
    "selected_var_master.columns = [i.replace('selection_optimization_compensation_survey', 'selection_optimization_compensation_survey_correctlayout') for i in selected_var_master]\n",
    "selected_var_master.columns = [i.replace('sensation_seeking_survey', 'sensation_seeking_survey_correctlayout') for i in selected_var_master]"
   ]
  },
  {
   "cell_type": "markdown",
   "metadata": {},
   "source": [
    "**Split the master dataset to have subjects whose data were collected and analyzed only at T1 (master, N = 386 ) and those whose data were collected and analyzed both at T1 (master) and T2 (covid) (N = 107)**"
   ]
  },
  {
   "cell_type": "code",
   "execution_count": 11,
   "metadata": {},
   "outputs": [],
   "source": [
    "dict_train_master   = get_admin_data(data_dir, 'unique_turkers_master.json')\n",
    "dict_test_master  = get_admin_data(data_dir, 'overlap_turkers.json')"
   ]
  },
  {
   "cell_type": "code",
   "execution_count": 12,
   "metadata": {},
   "outputs": [],
   "source": [
    "train_master = list(dict_train_master.keys()) \n",
    "test_master = list(dict_test_master.keys()) "
   ]
  },
  {
   "cell_type": "code",
   "execution_count": 13,
   "metadata": {},
   "outputs": [],
   "source": [
    "train_master.sort()\n",
    "test_master.sort()"
   ]
  },
  {
   "cell_type": "code",
   "execution_count": 14,
   "metadata": {},
   "outputs": [
    {
     "name": "stdout",
     "output_type": "stream",
     "text": [
      "Number of subject for master training, those tested only once by Ian: 386\n",
      "Number of subject for master testing: 107\n"
     ]
    }
   ],
   "source": [
    "selected_var_master_train  = selected_var_master.loc[train_master ,:]\n",
    "selected_var_master_test = selected_var_master.loc[test_master ,:]\n",
    "\n",
    "print(\"Number of subject for master training, those tested only once by Ian:\", len(selected_var_master_train.index))\n",
    "print(\"Number of subject for master testing:\", len(selected_var_master_test.index))\n"
   ]
  },
  {
   "cell_type": "code",
   "execution_count": 15,
   "metadata": {},
   "outputs": [],
   "source": [
    "assert len(selected_var_master_train)== len(train_master), 'data has wrong number of subjects'\n",
    "assert train_master == list(selected_var_master_train.index),'data has wrong id subjects'"
   ]
  },
  {
   "cell_type": "code",
   "execution_count": 16,
   "metadata": {},
   "outputs": [],
   "source": [
    "assert len(selected_var_master_test)== len(test_master), 'data has wrong number of subjects'\n",
    "assert test_master == list(selected_var_master_test.index),'data has wrong id subjects'"
   ]
  },
  {
   "cell_type": "code",
   "execution_count": null,
   "metadata": {},
   "outputs": [],
   "source": []
  },
  {
   "cell_type": "markdown",
   "metadata": {},
   "source": [
    "# Data cleaning - procedure A using Quantile Transform (QT)\n",
    "\n",
    "Because many of our analyses assume normally distributed variables, we transformed all variables using an empirical normal quantile transformation. In order to do so we first computed the quantiles used for transforming on the training training dataset of 386 subjects who were only tested in 2016 only. Then, we fit the transformation on the 107 subjects who were tested twice. The fit was applied separately for the data collected in 2016 and those collected during covid. We then removed data that were more than 2.5 times the interquartile range above the third quartile or below the first quartile. Any variable that remained excessively skewed after transformation and outlier removal was dropped. \n",
    "\n",
    "**The QT transformation is not per se sufficient to have variables whose skewness is within the absolute threshold of 1. In order to do so, it is necessary to remove the outliers**"
   ]
  },
  {
   "cell_type": "markdown",
   "metadata": {},
   "source": [
    "## Transform variables "
   ]
  },
  {
   "cell_type": "code",
   "execution_count": 17,
   "metadata": {},
   "outputs": [
    {
     "name": "stderr",
     "output_type": "stream",
     "text": [
      "/SRO/selfregulation/utils/data_preparation_utils.py:700: RuntimeWarning: invalid value encountered in less\n",
      "  data_mat[np.logical_or((data_mat<lowlimit), (data_mat>highlimit))] = np.nan\n",
      "/SRO/selfregulation/utils/data_preparation_utils.py:700: RuntimeWarning: invalid value encountered in greater\n",
      "  data_mat[np.logical_or((data_mat<lowlimit), (data_mat>highlimit))] = np.nan\n"
     ]
    },
    {
     "name": "stdout",
     "output_type": "stream",
     "text": [
      "* Training dataset\n",
      "** Successfully transformed 204 variables\n",
      "** 0 variables could not be transformed successfully\n",
      "Dropping 0 skewed data that could not be transformed successfully:\n",
      "\n",
      "**********************************************************************\n",
      "* Testing dataset\n",
      "** Successfully transformed 203 variables\n",
      "** 1 variables could not be transformed successfully\n",
      "Dropping 1 skewed data that could not be transformed successfully:\n",
      "ten_item_personality_survey.extraversion\n",
      "**********************************************************************\n"
     ]
    },
    {
     "name": "stderr",
     "output_type": "stream",
     "text": [
      "/SRO/selfregulation/utils/data_preparation_utils.py:700: RuntimeWarning: invalid value encountered in less\n",
      "  data_mat[np.logical_or((data_mat<lowlimit), (data_mat>highlimit))] = np.nan\n",
      "/SRO/selfregulation/utils/data_preparation_utils.py:700: RuntimeWarning: invalid value encountered in greater\n",
      "  data_mat[np.logical_or((data_mat<lowlimit), (data_mat>highlimit))] = np.nan\n"
     ]
    }
   ],
   "source": [
    "master_train_trans_qt, master_test_trans_qt  = transform_qt(\n",
    "             data_train  = selected_var_master_train,\n",
    "             data_test   = selected_var_master_test, output_train = True, drop_failed=True)"
   ]
  },
  {
   "cell_type": "code",
   "execution_count": 18,
   "metadata": {},
   "outputs": [
    {
     "name": "stderr",
     "output_type": "stream",
     "text": [
      "/SRO/selfregulation/utils/data_preparation_utils.py:700: RuntimeWarning: invalid value encountered in less\n",
      "  data_mat[np.logical_or((data_mat<lowlimit), (data_mat>highlimit))] = np.nan\n",
      "/SRO/selfregulation/utils/data_preparation_utils.py:700: RuntimeWarning: invalid value encountered in greater\n",
      "  data_mat[np.logical_or((data_mat<lowlimit), (data_mat>highlimit))] = np.nan\n"
     ]
    },
    {
     "name": "stdout",
     "output_type": "stream",
     "text": [
      "* Training dataset\n",
      "** Successfully transformed 204 variables\n",
      "** 0 variables could not be transformed successfully\n",
      "Dropping 0 skewed data that could not be transformed successfully:\n",
      "\n",
      "**********************************************************************\n",
      "* Testing dataset\n",
      "** Successfully transformed 204 variables\n",
      "** 0 variables could not be transformed successfully\n",
      "Dropping 0 skewed data that could not be transformed successfully:\n",
      "\n",
      "**********************************************************************\n"
     ]
    },
    {
     "name": "stderr",
     "output_type": "stream",
     "text": [
      "/SRO/selfregulation/utils/data_preparation_utils.py:700: RuntimeWarning: invalid value encountered in less\n",
      "  data_mat[np.logical_or((data_mat<lowlimit), (data_mat>highlimit))] = np.nan\n",
      "/SRO/selfregulation/utils/data_preparation_utils.py:700: RuntimeWarning: invalid value encountered in greater\n",
      "  data_mat[np.logical_or((data_mat<lowlimit), (data_mat>highlimit))] = np.nan\n"
     ]
    }
   ],
   "source": [
    "covid_test_trans_qt  = transform_qt(\n",
    "             data_train = selected_var_master_train, \n",
    "             data_test  = selected_var_covid, output_train= False, drop_failed=True)"
   ]
  },
  {
   "cell_type": "code",
   "execution_count": 19,
   "metadata": {},
   "outputs": [
    {
     "name": "stdout",
     "output_type": "stream",
     "text": [
      "The distributions show that several variables in the test datasets retain a skewness above 1 after QT transform\n"
     ]
    },
    {
     "data": {
      "image/png": "[encoded data removed]",
      "text/plain": [
       "<matplotlib.figure.Figure at 0x7f78d639c3c8>"
      ]
     },
     "metadata": {
      "needs_background": "light"
     },
     "output_type": "display_data"
    }
   ],
   "source": [
    "plot_skewness(master_train_trans_qt, master_test_trans_qt, covid_test_trans_qt, 'Skewness after QT transform')\n",
    "print('The distributions show that several variables in the test datasets retain a skewness above 1 after QT transform')"
   ]
  },
  {
   "cell_type": "markdown",
   "metadata": {},
   "source": [
    "## Remove outliers"
   ]
  },
  {
   "cell_type": "code",
   "execution_count": 20,
   "metadata": {},
   "outputs": [
    {
     "name": "stderr",
     "output_type": "stream",
     "text": [
      "/SRO/selfregulation/utils/data_preparation_utils.py:700: RuntimeWarning: invalid value encountered in less\n",
      "  data_mat[np.logical_or((data_mat<lowlimit), (data_mat>highlimit))] = np.nan\n",
      "/SRO/selfregulation/utils/data_preparation_utils.py:700: RuntimeWarning: invalid value encountered in greater\n",
      "  data_mat[np.logical_or((data_mat<lowlimit), (data_mat>highlimit))] = np.nan\n"
     ]
    }
   ],
   "source": [
    "training_clean_qt        = remove_outliers(master_train_trans_qt)\n",
    "master_clean_qt          = remove_outliers(master_test_trans_qt)\n",
    "covid_clean_qt          = remove_outliers(covid_test_trans_qt)"
   ]
  },
  {
   "cell_type": "code",
   "execution_count": 21,
   "metadata": {},
   "outputs": [
    {
     "name": "stdout",
     "output_type": "stream",
     "text": [
      "After outliers removal, the variables have a skeweness within the desired threshold\n",
      "Bear in mind: one variable needs to be dropped from the master dataset as skeweness remains above 1 even after removal of the outliers\n"
     ]
    },
    {
     "data": {
      "image/png": "[encoded data removed]",
      "text/plain": [
       "<matplotlib.figure.Figure at 0x7f78d6308cf8>"
      ]
     },
     "metadata": {
      "needs_background": "light"
     },
     "output_type": "display_data"
    }
   ],
   "source": [
    "plot_skewness(training_clean_qt, master_clean_qt,covid_clean_qt, 'Skewness after QT transform + removal outlier')\n",
    "print('After outliers removal, the variables have a skeweness within the desired threshold')\n",
    "print('Bear in mind: one variable needs to be dropped from the master dataset as skeweness remains above 1 even after removal of the outliers')\n"
   ]
  },
  {
   "cell_type": "code",
   "execution_count": 41,
   "metadata": {},
   "outputs": [
    {
     "name": "stdout",
     "output_type": "stream",
     "text": [
      "Mean skewness training:, 0.0005689025318003093\n",
      "Median skewness training:, -0.006706848917638868\n"
     ]
    }
   ],
   "source": [
    "print('Mean skewness training:,', np.mean(training_clean_qt.skew()))\n",
    "print('Median skewness training:,', np.median(training_clean_qt.skew()))"
   ]
  },
  {
   "cell_type": "code",
   "execution_count": 42,
   "metadata": {},
   "outputs": [
    {
     "name": "stdout",
     "output_type": "stream",
     "text": [
      "Mean skewness master testing dataset :, 0.001196723612437766\n",
      "Median skewness master testing dataset:, 0.01009642277615274\n"
     ]
    }
   ],
   "source": [
    "print('Mean skewness master testing dataset :,', np.mean(master_clean_qt.skew()))\n",
    "print('Median skewness master testing dataset:,', np.median(master_clean_qt.skew()))"
   ]
  },
  {
   "cell_type": "code",
   "execution_count": 43,
   "metadata": {},
   "outputs": [
    {
     "name": "stdout",
     "output_type": "stream",
     "text": [
      "Mean skewness covid testing dataset :, 0.026775321647489924\n",
      "Median skewness covid testing dataset:, 0.047787230058859015\n"
     ]
    }
   ],
   "source": [
    "print('Mean skewness covid testing dataset :,', np.mean(covid_clean_qt.skew()))\n",
    "print('Median skewness covid testing dataset:,', np.median(covid_clean_qt.skew()))"
   ]
  },
  {
   "cell_type": "markdown",
   "metadata": {},
   "source": [
    "# Data cleaning - procedure A using Power Transformer (PT)\n"
   ]
  },
  {
   "cell_type": "code",
   "execution_count": 22,
   "metadata": {},
   "outputs": [
    {
     "name": "stderr",
     "output_type": "stream",
     "text": [
      "/SRO/selfregulation/utils/data_preparation_utils.py:700: RuntimeWarning: invalid value encountered in less\n",
      "  data_mat[np.logical_or((data_mat<lowlimit), (data_mat>highlimit))] = np.nan\n",
      "/SRO/selfregulation/utils/data_preparation_utils.py:700: RuntimeWarning: invalid value encountered in greater\n",
      "  data_mat[np.logical_or((data_mat<lowlimit), (data_mat>highlimit))] = np.nan\n"
     ]
    },
    {
     "name": "stdout",
     "output_type": "stream",
     "text": [
      "* Training dataset\n",
      "** Successfully transformed 201 variables\n",
      "** 3 variables could not be transformed successfully\n",
      "Dropping 3 skewed data that could not be transformed successfully:\n",
      "bickel_titrator.hyp_discount_rate_medium\n",
      "bickel_titrator.hyp_discount_rate_large\n",
      "bickel_titrator.hyp_discount_rate_small\n",
      "**********************************************************************\n",
      "* Testing dataset\n",
      "** Successfully transformed 200 variables\n",
      "** 4 variables could not be transformed successfully\n",
      "Dropping 4 skewed data that could not be transformed successfully:\n",
      "kirby.hyp_discount_rate_large\n",
      "bickel_titrator.hyp_discount_rate_medium\n",
      "bickel_titrator.hyp_discount_rate_large\n",
      "bickel_titrator.hyp_discount_rate_small\n",
      "**********************************************************************\n"
     ]
    },
    {
     "name": "stderr",
     "output_type": "stream",
     "text": [
      "/SRO/selfregulation/utils/data_preparation_utils.py:700: RuntimeWarning: invalid value encountered in less\n",
      "  data_mat[np.logical_or((data_mat<lowlimit), (data_mat>highlimit))] = np.nan\n",
      "/SRO/selfregulation/utils/data_preparation_utils.py:700: RuntimeWarning: invalid value encountered in greater\n",
      "  data_mat[np.logical_or((data_mat<lowlimit), (data_mat>highlimit))] = np.nan\n"
     ]
    }
   ],
   "source": [
    "master_train_trans_pt, master_test_trans_pt  = transform_pt(\n",
    "             data_train  = selected_var_master_train,\n",
    "             data_test   = selected_var_master_test, output_train = True, drop_failed=True)"
   ]
  },
  {
   "cell_type": "code",
   "execution_count": 23,
   "metadata": {},
   "outputs": [
    {
     "name": "stderr",
     "output_type": "stream",
     "text": [
      "/SRO/selfregulation/utils/data_preparation_utils.py:700: RuntimeWarning: invalid value encountered in less\n",
      "  data_mat[np.logical_or((data_mat<lowlimit), (data_mat>highlimit))] = np.nan\n",
      "/SRO/selfregulation/utils/data_preparation_utils.py:700: RuntimeWarning: invalid value encountered in greater\n",
      "  data_mat[np.logical_or((data_mat<lowlimit), (data_mat>highlimit))] = np.nan\n"
     ]
    },
    {
     "name": "stdout",
     "output_type": "stream",
     "text": [
      "* Training dataset\n",
      "** Successfully transformed 201 variables\n",
      "** 3 variables could not be transformed successfully\n",
      "Dropping 3 skewed data that could not be transformed successfully:\n",
      "bickel_titrator.hyp_discount_rate_medium\n",
      "bickel_titrator.hyp_discount_rate_large\n",
      "bickel_titrator.hyp_discount_rate_small\n",
      "**********************************************************************\n",
      "* Testing dataset\n",
      "** Successfully transformed 196 variables\n",
      "** 8 variables could not be transformed successfully\n",
      "Dropping 8 skewed data that could not be transformed successfully:\n",
      "kirby.hyp_discount_rate_medium\n",
      "bickel_titrator.hyp_discount_rate_medium\n",
      "bickel_titrator.hyp_discount_rate_large\n",
      "bickel_titrator.hyp_discount_rate_small\n",
      "kirby.hyp_discount_rate_large\n",
      "dickman_survey.dysfunctional\n",
      "kirby.hyp_discount_rate_small\n",
      "upps_impulsivity_survey.positive_urgency\n",
      "**********************************************************************\n"
     ]
    },
    {
     "name": "stderr",
     "output_type": "stream",
     "text": [
      "/SRO/selfregulation/utils/data_preparation_utils.py:700: RuntimeWarning: invalid value encountered in less\n",
      "  data_mat[np.logical_or((data_mat<lowlimit), (data_mat>highlimit))] = np.nan\n",
      "/SRO/selfregulation/utils/data_preparation_utils.py:700: RuntimeWarning: invalid value encountered in greater\n",
      "  data_mat[np.logical_or((data_mat<lowlimit), (data_mat>highlimit))] = np.nan\n"
     ]
    }
   ],
   "source": [
    "covid_test_trans_pt  = transform_pt(\n",
    "             data_train = selected_var_master_train, \n",
    "             data_test  = selected_var_covid, output_train= False, drop_failed=True)"
   ]
  },
  {
   "cell_type": "code",
   "execution_count": 24,
   "metadata": {},
   "outputs": [
    {
     "name": "stdout",
     "output_type": "stream",
     "text": [
      "The distributions show that several variables in the test datasets retain a skewness above 1 after PT transform\n"
     ]
    },
    {
     "data": {
      "image/png": "[encoded data removed]",
      "text/plain": [
       "<matplotlib.figure.Figure at 0x7f78d424e390>"
      ]
     },
     "metadata": {
      "needs_background": "light"
     },
     "output_type": "display_data"
    }
   ],
   "source": [
    "plot_skewness(master_train_trans_pt, master_test_trans_pt, covid_test_trans_pt, 'Skewness after PT transform')\n",
    "print('The distributions show that several variables in the test datasets retain a skewness above 1 after PT transform')"
   ]
  },
  {
   "cell_type": "markdown",
   "metadata": {},
   "source": [
    "## Remove outliers"
   ]
  },
  {
   "cell_type": "code",
   "execution_count": 25,
   "metadata": {},
   "outputs": [
    {
     "name": "stderr",
     "output_type": "stream",
     "text": [
      "/SRO/selfregulation/utils/data_preparation_utils.py:700: RuntimeWarning: invalid value encountered in less\n",
      "  data_mat[np.logical_or((data_mat<lowlimit), (data_mat>highlimit))] = np.nan\n",
      "/SRO/selfregulation/utils/data_preparation_utils.py:700: RuntimeWarning: invalid value encountered in greater\n",
      "  data_mat[np.logical_or((data_mat<lowlimit), (data_mat>highlimit))] = np.nan\n"
     ]
    }
   ],
   "source": [
    "training_clean_pt        = remove_outliers(master_train_trans_pt)\n",
    "master_clean_pt         = remove_outliers(master_test_trans_pt)\n",
    "covid_clean_pt          = remove_outliers(covid_test_trans_pt)"
   ]
  },
  {
   "cell_type": "code",
   "execution_count": 26,
   "metadata": {},
   "outputs": [
    {
     "name": "stdout",
     "output_type": "stream",
     "text": [
      "After outliers removal, the variables have a skeweness within the desired threshold\n",
      "Bear in mind: some variables needed to be dropped as skeweness remains above 1 even after removal of the outliers\n"
     ]
    },
    {
     "data": {
      "image/png": "[encoded data removed]",
      "text/plain": [
       "<matplotlib.figure.Figure at 0x7f78d4115710>"
      ]
     },
     "metadata": {
      "needs_background": "light"
     },
     "output_type": "display_data"
    }
   ],
   "source": [
    "plot_skewness(training_clean_pt, master_clean_pt,covid_clean_pt, 'Skewness after PT transform + removal outlier')\n",
    "print('After outliers removal, the variables have a skeweness within the desired threshold')\n",
    "print('Bear in mind: some variables needed to be dropped as skeweness remains above 1 even after removal of the outliers')\n"
   ]
  },
  {
   "cell_type": "code",
   "execution_count": 38,
   "metadata": {},
   "outputs": [
    {
     "name": "stdout",
     "output_type": "stream",
     "text": [
      "Mean skewness training:, -0.0020319587796381053\n",
      "Median skewness training:, -0.0018688868080818574\n"
     ]
    }
   ],
   "source": [
    "print('Mean skewness training:,', np.mean(training_clean_pt.skew()))\n",
    "print('Median skewness training:,', np.median(training_clean_pt.skew()))"
   ]
  },
  {
   "cell_type": "code",
   "execution_count": 39,
   "metadata": {},
   "outputs": [
    {
     "name": "stdout",
     "output_type": "stream",
     "text": [
      "Mean skewness master testing dataset :, -0.01204820366458741\n",
      "Median skewness master testing dataset:, -0.011335564051186974\n"
     ]
    }
   ],
   "source": [
    "print('Mean skewness master testing dataset :,', np.mean(master_clean_pt.skew()))\n",
    "print('Median skewness master testing dataset:,', np.median(master_clean_pt.skew()))"
   ]
  },
  {
   "cell_type": "code",
   "execution_count": 40,
   "metadata": {},
   "outputs": [
    {
     "name": "stdout",
     "output_type": "stream",
     "text": [
      "Mean skewness covid testing dataset :, -0.011939157164659665\n",
      "Median skewness covid testing dataset:, 0.0006450153723006828\n"
     ]
    }
   ],
   "source": [
    "print('Mean skewness covid testing dataset :,', np.mean(covid_clean_pt.skew()))\n",
    "print('Median skewness covid testing dataset:,', np.median(covid_clean_pt.skew()))"
   ]
  },
  {
   "cell_type": "markdown",
   "metadata": {},
   "source": [
    "# Data cleaning- procedure B using train_test_split from sklearn\n",
    "***********************************************************************************************\n",
    "****************** <font color='red'>INVALID APPROACH DON'T RUN</font>************************\n",
    "*********************************************************************************************** \n",
    "\n",
    "Here the train and test dataset are defined using the train_test_split that splits the overall dataset (testing + train) into random train and test subset. \n",
    "\n",
    "By then obtaining the original training (data collected by Ian only) and the testsdatasets (data collected by Ian, and data collected on the same subjects in 2020) the variables have a skewness within the desired threshold and it is not needed to remove outliers.\n",
    "\n"
   ]
  },
  {
   "cell_type": "code",
   "execution_count": null,
   "metadata": {},
   "outputs": [],
   "source": [
    "#Add suffixes as there might be two subjects with same label\n",
    "training       = selected_var_master_train.rename(index=lambda s: s + '_train')\n",
    "master         =  selected_var_master_test.rename(index=lambda s: s + '_test')\n",
    "covid          = selected_var_covid.rename(index=lambda s: s + '_test')\n"
   ]
  },
  {
   "cell_type": "markdown",
   "metadata": {},
   "source": [
    "## Training dataset and master testing assessment "
   ]
  },
  {
   "cell_type": "code",
   "execution_count": null,
   "metadata": {},
   "outputs": [],
   "source": [
    "X,y = select_data(training, master)\n",
    "assert len(X) == 493, 'WRONG NUMBER OF SUBJECTS'\n",
    "assert len(X.columns) == 204, 'WRONG NUMBER OF VARIABLES'\n",
    "\n",
    "X_train, X_test, X_train_trans, X_test_trans = transform_qt_train_test_split(X, y)\n",
    "plot_skeweness_2(X_train_trans, X_test_trans, color = 'gold',  title ='Skewness of variables for the random train/test split')\n",
    "\n",
    "orig_train_trans, orig_master_trans = return_original_datasets_trans(X_train_trans, X_test_trans)\n",
    "assert len(orig_train_trans) == len(training), 'WRONG NUMBER OF SUBJECTS'\n",
    "assert len(orig_master_trans) == len(master), 'WRONG NUMBER OF VARIABLES'\n",
    "plot_skeweness_2(orig_train_trans, orig_master_trans, color = 'gold', title ='Skewness of variables for the original train/test data')\n",
    "\n",
    "successful_transforms_train= orig_train_trans.loc[:,abs(orig_train_trans.skew())<1]\n",
    "dropped_vars_train = set(orig_train_trans)-set(successful_transforms_train)\n",
    "\n",
    "print('** Successfully transformed %s variables for training dataset' % len(successful_transforms_train.columns))\n",
    "print('** %s variables could not be transformed successfully' % len(dropped_vars_train))\n",
    "\n",
    "successful_transforms_master= orig_master_trans.loc[:,abs(orig_master_trans.skew())<1]\n",
    "dropped_vars_master = set(orig_master_trans)-set(successful_transforms_master)\n",
    "print('** Successfully transformed %s variables for testing dataset' % len(successful_transforms_master.columns))\n",
    "print('** %s variables could not be transformed successfully' % len(dropped_vars_master))"
   ]
  },
  {
   "cell_type": "markdown",
   "metadata": {},
   "source": [
    "## Training dataset and covid testing assessment"
   ]
  },
  {
   "cell_type": "code",
   "execution_count": null,
   "metadata": {},
   "outputs": [],
   "source": [
    "X,y = select_data(training, covid)\n",
    "assert len(X) == 493, 'WRONG NUMBER OF SUBJECTS'\n",
    "assert len(X.columns) == 204, 'WRONG NUMBER OF VARIABLES'\n",
    "\n",
    "X_train, X_test, X_train_trans, X_test_trans = transform_qt_train_test_split(X, y)\n",
    "plot_skeweness_2(X_train_trans, X_test_trans, color = 'blue',  title ='Skewness of variables for the random train/test split')\n",
    "\n",
    "orig_train_trans, orig_covid_trans = return_original_datasets_trans(X_train_trans, X_test_trans)\n",
    "assert len(orig_train_trans) == len(training_clean), 'WRONG NUMBER OF SUBJECTS'\n",
    "assert len(orig_covid_trans) == len(covid_clean), 'WRONG NUMBER OF VARIABLES'\n",
    "plot_skeweness_2(orig_train_trans, orig_covid_trans, color = 'blue', title ='Skewness of variables for the original train/test data')\n",
    "\n",
    "successful_transforms_train= orig_train_trans.loc[:,abs(orig_train_trans.skew())<1]\n",
    "dropped_vars_train = set(orig_train_trans)-set(successful_transforms_train)\n",
    "\n",
    "print('** Successfully transformed %s variables for training dataset' % len(successful_transforms_train.columns))\n",
    "print('** %s variables could not be transformed successfully' % len(dropped_vars_train))\n",
    "\n",
    "successful_transforms_covid= orig_covid_trans.loc[:,abs(orig_covid_trans.skew())<1]\n",
    "dropped_vars_covid = set(orig_covid_trans)-set(successful_transforms_covid)\n",
    "print('** Successfully transformed %s variables for testing dataset' % len(successful_transforms_covid.columns))\n",
    "print('** %s variables could not be transformed successfully' % len(dropped_vars_covid))"
   ]
  },
  {
   "cell_type": "markdown",
   "metadata": {},
   "source": []
  },
  {
   "cell_type": "code",
   "execution_count": null,
   "metadata": {},
   "outputs": [],
   "source": []
  },
  {
   "cell_type": "code",
   "execution_count": null,
   "metadata": {},
   "outputs": [],
   "source": []
  }
 ],
 "metadata": {
  "kernelspec": {
   "display_name": "Python 3",
   "language": "python",
   "name": "python3"
  },
  "language_info": {
   "codemirror_mode": {
    "name": "ipython",
    "version": 3
   },
   "file_extension": ".py",
   "mimetype": "text/x-python",
   "name": "python",
   "nbconvert_exporter": "python",
   "pygments_lexer": "ipython3",
   "version": "3.5.3"
  }
 },
 "nbformat": 4,
 "nbformat_minor": 4
}
